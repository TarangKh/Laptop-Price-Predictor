{
 "cells": [
  {
   "cell_type": "code",
   "execution_count": 1,
   "metadata": {},
   "outputs": [],
   "source": [
    "import pandas as pd \n",
    "import numpy as np"
   ]
  },
  {
   "cell_type": "code",
   "execution_count": 90,
   "metadata": {},
   "outputs": [],
   "source": [
    "laptops = pd.read_csv(\"laptop_data.csv\")"
   ]
  },
  {
   "cell_type": "code",
   "execution_count": 91,
   "metadata": {},
   "outputs": [
    {
     "data": {
      "text/html": [
       "<div>\n",
       "<style scoped>\n",
       "    .dataframe tbody tr th:only-of-type {\n",
       "        vertical-align: middle;\n",
       "    }\n",
       "\n",
       "    .dataframe tbody tr th {\n",
       "        vertical-align: top;\n",
       "    }\n",
       "\n",
       "    .dataframe thead th {\n",
       "        text-align: right;\n",
       "    }\n",
       "</style>\n",
       "<table border=\"1\" class=\"dataframe\">\n",
       "  <thead>\n",
       "    <tr style=\"text-align: right;\">\n",
       "      <th></th>\n",
       "      <th>brand</th>\n",
       "      <th>model</th>\n",
       "      <th>processor_brand</th>\n",
       "      <th>processor_name</th>\n",
       "      <th>processor_gnrtn</th>\n",
       "      <th>ram_gb</th>\n",
       "      <th>ram_type</th>\n",
       "      <th>ssd</th>\n",
       "      <th>hdd</th>\n",
       "      <th>os</th>\n",
       "      <th>...</th>\n",
       "      <th>display_size</th>\n",
       "      <th>warranty</th>\n",
       "      <th>Touchscreen</th>\n",
       "      <th>msoffice</th>\n",
       "      <th>latest_price</th>\n",
       "      <th>old_price</th>\n",
       "      <th>discount</th>\n",
       "      <th>star_rating</th>\n",
       "      <th>ratings</th>\n",
       "      <th>reviews</th>\n",
       "    </tr>\n",
       "  </thead>\n",
       "  <tbody>\n",
       "    <tr>\n",
       "      <th>0</th>\n",
       "      <td>Lenovo</td>\n",
       "      <td>A6-9225</td>\n",
       "      <td>AMD</td>\n",
       "      <td>A6-9225 Processor</td>\n",
       "      <td>10th</td>\n",
       "      <td>4 GB GB</td>\n",
       "      <td>DDR4</td>\n",
       "      <td>0 GB</td>\n",
       "      <td>1024 GB</td>\n",
       "      <td>Windows</td>\n",
       "      <td>...</td>\n",
       "      <td>Missing</td>\n",
       "      <td>0</td>\n",
       "      <td>No</td>\n",
       "      <td>No</td>\n",
       "      <td>24990</td>\n",
       "      <td>32790</td>\n",
       "      <td>23</td>\n",
       "      <td>3.7</td>\n",
       "      <td>63</td>\n",
       "      <td>12</td>\n",
       "    </tr>\n",
       "    <tr>\n",
       "      <th>1</th>\n",
       "      <td>Lenovo</td>\n",
       "      <td>Ideapad</td>\n",
       "      <td>AMD</td>\n",
       "      <td>APU Dual</td>\n",
       "      <td>10th</td>\n",
       "      <td>4 GB GB</td>\n",
       "      <td>DDR4</td>\n",
       "      <td>0 GB</td>\n",
       "      <td>512 GB</td>\n",
       "      <td>Windows</td>\n",
       "      <td>...</td>\n",
       "      <td>Missing</td>\n",
       "      <td>0</td>\n",
       "      <td>No</td>\n",
       "      <td>No</td>\n",
       "      <td>19590</td>\n",
       "      <td>21325</td>\n",
       "      <td>8</td>\n",
       "      <td>3.6</td>\n",
       "      <td>1894</td>\n",
       "      <td>256</td>\n",
       "    </tr>\n",
       "    <tr>\n",
       "      <th>2</th>\n",
       "      <td>Avita</td>\n",
       "      <td>PURA</td>\n",
       "      <td>AMD</td>\n",
       "      <td>APU Dual</td>\n",
       "      <td>10th</td>\n",
       "      <td>4 GB GB</td>\n",
       "      <td>DDR4</td>\n",
       "      <td>128 GB</td>\n",
       "      <td>0 GB</td>\n",
       "      <td>Windows</td>\n",
       "      <td>...</td>\n",
       "      <td>Missing</td>\n",
       "      <td>0</td>\n",
       "      <td>No</td>\n",
       "      <td>No</td>\n",
       "      <td>19990</td>\n",
       "      <td>27990</td>\n",
       "      <td>28</td>\n",
       "      <td>3.7</td>\n",
       "      <td>1153</td>\n",
       "      <td>159</td>\n",
       "    </tr>\n",
       "    <tr>\n",
       "      <th>3</th>\n",
       "      <td>Avita</td>\n",
       "      <td>PURA</td>\n",
       "      <td>AMD</td>\n",
       "      <td>APU Dual</td>\n",
       "      <td>10th</td>\n",
       "      <td>4 GB GB</td>\n",
       "      <td>DDR4</td>\n",
       "      <td>128 GB</td>\n",
       "      <td>0 GB</td>\n",
       "      <td>Windows</td>\n",
       "      <td>...</td>\n",
       "      <td>Missing</td>\n",
       "      <td>0</td>\n",
       "      <td>No</td>\n",
       "      <td>No</td>\n",
       "      <td>21490</td>\n",
       "      <td>27990</td>\n",
       "      <td>23</td>\n",
       "      <td>3.7</td>\n",
       "      <td>1153</td>\n",
       "      <td>159</td>\n",
       "    </tr>\n",
       "    <tr>\n",
       "      <th>4</th>\n",
       "      <td>Avita</td>\n",
       "      <td>PURA</td>\n",
       "      <td>AMD</td>\n",
       "      <td>APU Dual</td>\n",
       "      <td>10th</td>\n",
       "      <td>4 GB GB</td>\n",
       "      <td>DDR4</td>\n",
       "      <td>256 GB</td>\n",
       "      <td>0 GB</td>\n",
       "      <td>Windows</td>\n",
       "      <td>...</td>\n",
       "      <td>Missing</td>\n",
       "      <td>0</td>\n",
       "      <td>No</td>\n",
       "      <td>No</td>\n",
       "      <td>24990</td>\n",
       "      <td>33490</td>\n",
       "      <td>25</td>\n",
       "      <td>3.7</td>\n",
       "      <td>1657</td>\n",
       "      <td>234</td>\n",
       "    </tr>\n",
       "  </tbody>\n",
       "</table>\n",
       "<p>5 rows × 23 columns</p>\n",
       "</div>"
      ],
      "text/plain": [
       "    brand    model processor_brand     processor_name processor_gnrtn  \\\n",
       "0  Lenovo  A6-9225             AMD  A6-9225 Processor            10th   \n",
       "1  Lenovo  Ideapad             AMD           APU Dual            10th   \n",
       "2   Avita     PURA             AMD           APU Dual            10th   \n",
       "3   Avita     PURA             AMD           APU Dual            10th   \n",
       "4   Avita     PURA             AMD           APU Dual            10th   \n",
       "\n",
       "    ram_gb ram_type     ssd      hdd       os  ... display_size  warranty  \\\n",
       "0  4 GB GB     DDR4    0 GB  1024 GB  Windows  ...      Missing         0   \n",
       "1  4 GB GB     DDR4    0 GB   512 GB  Windows  ...      Missing         0   \n",
       "2  4 GB GB     DDR4  128 GB     0 GB  Windows  ...      Missing         0   \n",
       "3  4 GB GB     DDR4  128 GB     0 GB  Windows  ...      Missing         0   \n",
       "4  4 GB GB     DDR4  256 GB     0 GB  Windows  ...      Missing         0   \n",
       "\n",
       "  Touchscreen msoffice  latest_price old_price discount  star_rating  ratings  \\\n",
       "0          No       No         24990     32790       23          3.7       63   \n",
       "1          No       No         19590     21325        8          3.6     1894   \n",
       "2          No       No         19990     27990       28          3.7     1153   \n",
       "3          No       No         21490     27990       23          3.7     1153   \n",
       "4          No       No         24990     33490       25          3.7     1657   \n",
       "\n",
       "   reviews  \n",
       "0       12  \n",
       "1      256  \n",
       "2      159  \n",
       "3      159  \n",
       "4      234  \n",
       "\n",
       "[5 rows x 23 columns]"
      ]
     },
     "execution_count": 91,
     "metadata": {},
     "output_type": "execute_result"
    }
   ],
   "source": [
    "laptops.head()"
   ]
  },
  {
   "cell_type": "code",
   "execution_count": 92,
   "metadata": {},
   "outputs": [
    {
     "data": {
      "text/plain": [
       "Index(['brand', 'model', 'processor_brand', 'processor_name',\n",
       "       'processor_gnrtn', 'ram_gb', 'ram_type', 'ssd', 'hdd', 'os', 'os_bit',\n",
       "       'graphic_card_gb', 'weight', 'display_size', 'warranty', 'Touchscreen',\n",
       "       'msoffice', 'latest_price', 'old_price', 'discount', 'star_rating',\n",
       "       'ratings', 'reviews'],\n",
       "      dtype='object')"
      ]
     },
     "execution_count": 92,
     "metadata": {},
     "output_type": "execute_result"
    }
   ],
   "source": [
    "laptops.columns"
   ]
  },
  {
   "cell_type": "code",
   "execution_count": 93,
   "metadata": {},
   "outputs": [
    {
     "data": {
      "text/plain": [
       "array(['Missing', '14', '15.6', '14.96', '15', '14.1', '12.2', '13.3',\n",
       "       '17.3', '13', '16', '14.9', '16.1', '14.2', '16.2', '13.4'],\n",
       "      dtype=object)"
      ]
     },
     "execution_count": 93,
     "metadata": {},
     "output_type": "execute_result"
    }
   ],
   "source": [
    "laptops[\"display_size\"].unique()"
   ]
  },
  {
   "cell_type": "code",
   "execution_count": 94,
   "metadata": {},
   "outputs": [],
   "source": [
    "laptops = laptops.drop(labels=[\"display_size\",'old_price', 'discount', 'star_rating',\n",
    "       'ratings', 'reviews', 'weight', \"warranty\", \"msoffice\" ], axis=1)"
   ]
  },
  {
   "cell_type": "code",
   "execution_count": 95,
   "metadata": {},
   "outputs": [
    {
     "data": {
      "text/html": [
       "<div>\n",
       "<style scoped>\n",
       "    .dataframe tbody tr th:only-of-type {\n",
       "        vertical-align: middle;\n",
       "    }\n",
       "\n",
       "    .dataframe tbody tr th {\n",
       "        vertical-align: top;\n",
       "    }\n",
       "\n",
       "    .dataframe thead th {\n",
       "        text-align: right;\n",
       "    }\n",
       "</style>\n",
       "<table border=\"1\" class=\"dataframe\">\n",
       "  <thead>\n",
       "    <tr style=\"text-align: right;\">\n",
       "      <th></th>\n",
       "      <th>brand</th>\n",
       "      <th>model</th>\n",
       "      <th>processor_brand</th>\n",
       "      <th>processor_name</th>\n",
       "      <th>processor_gnrtn</th>\n",
       "      <th>ram_gb</th>\n",
       "      <th>ram_type</th>\n",
       "      <th>ssd</th>\n",
       "      <th>hdd</th>\n",
       "      <th>os</th>\n",
       "      <th>os_bit</th>\n",
       "      <th>graphic_card_gb</th>\n",
       "      <th>Touchscreen</th>\n",
       "      <th>latest_price</th>\n",
       "    </tr>\n",
       "  </thead>\n",
       "  <tbody>\n",
       "    <tr>\n",
       "      <th>0</th>\n",
       "      <td>Lenovo</td>\n",
       "      <td>A6-9225</td>\n",
       "      <td>AMD</td>\n",
       "      <td>A6-9225 Processor</td>\n",
       "      <td>10th</td>\n",
       "      <td>4 GB GB</td>\n",
       "      <td>DDR4</td>\n",
       "      <td>0 GB</td>\n",
       "      <td>1024 GB</td>\n",
       "      <td>Windows</td>\n",
       "      <td>64-bit</td>\n",
       "      <td>0</td>\n",
       "      <td>No</td>\n",
       "      <td>24990</td>\n",
       "    </tr>\n",
       "    <tr>\n",
       "      <th>1</th>\n",
       "      <td>Lenovo</td>\n",
       "      <td>Ideapad</td>\n",
       "      <td>AMD</td>\n",
       "      <td>APU Dual</td>\n",
       "      <td>10th</td>\n",
       "      <td>4 GB GB</td>\n",
       "      <td>DDR4</td>\n",
       "      <td>0 GB</td>\n",
       "      <td>512 GB</td>\n",
       "      <td>Windows</td>\n",
       "      <td>64-bit</td>\n",
       "      <td>0</td>\n",
       "      <td>No</td>\n",
       "      <td>19590</td>\n",
       "    </tr>\n",
       "    <tr>\n",
       "      <th>2</th>\n",
       "      <td>Avita</td>\n",
       "      <td>PURA</td>\n",
       "      <td>AMD</td>\n",
       "      <td>APU Dual</td>\n",
       "      <td>10th</td>\n",
       "      <td>4 GB GB</td>\n",
       "      <td>DDR4</td>\n",
       "      <td>128 GB</td>\n",
       "      <td>0 GB</td>\n",
       "      <td>Windows</td>\n",
       "      <td>64-bit</td>\n",
       "      <td>0</td>\n",
       "      <td>No</td>\n",
       "      <td>19990</td>\n",
       "    </tr>\n",
       "    <tr>\n",
       "      <th>3</th>\n",
       "      <td>Avita</td>\n",
       "      <td>PURA</td>\n",
       "      <td>AMD</td>\n",
       "      <td>APU Dual</td>\n",
       "      <td>10th</td>\n",
       "      <td>4 GB GB</td>\n",
       "      <td>DDR4</td>\n",
       "      <td>128 GB</td>\n",
       "      <td>0 GB</td>\n",
       "      <td>Windows</td>\n",
       "      <td>64-bit</td>\n",
       "      <td>0</td>\n",
       "      <td>No</td>\n",
       "      <td>21490</td>\n",
       "    </tr>\n",
       "    <tr>\n",
       "      <th>4</th>\n",
       "      <td>Avita</td>\n",
       "      <td>PURA</td>\n",
       "      <td>AMD</td>\n",
       "      <td>APU Dual</td>\n",
       "      <td>10th</td>\n",
       "      <td>4 GB GB</td>\n",
       "      <td>DDR4</td>\n",
       "      <td>256 GB</td>\n",
       "      <td>0 GB</td>\n",
       "      <td>Windows</td>\n",
       "      <td>64-bit</td>\n",
       "      <td>0</td>\n",
       "      <td>No</td>\n",
       "      <td>24990</td>\n",
       "    </tr>\n",
       "  </tbody>\n",
       "</table>\n",
       "</div>"
      ],
      "text/plain": [
       "    brand    model processor_brand     processor_name processor_gnrtn  \\\n",
       "0  Lenovo  A6-9225             AMD  A6-9225 Processor            10th   \n",
       "1  Lenovo  Ideapad             AMD           APU Dual            10th   \n",
       "2   Avita     PURA             AMD           APU Dual            10th   \n",
       "3   Avita     PURA             AMD           APU Dual            10th   \n",
       "4   Avita     PURA             AMD           APU Dual            10th   \n",
       "\n",
       "    ram_gb ram_type     ssd      hdd       os  os_bit  graphic_card_gb  \\\n",
       "0  4 GB GB     DDR4    0 GB  1024 GB  Windows  64-bit                0   \n",
       "1  4 GB GB     DDR4    0 GB   512 GB  Windows  64-bit                0   \n",
       "2  4 GB GB     DDR4  128 GB     0 GB  Windows  64-bit                0   \n",
       "3  4 GB GB     DDR4  128 GB     0 GB  Windows  64-bit                0   \n",
       "4  4 GB GB     DDR4  256 GB     0 GB  Windows  64-bit                0   \n",
       "\n",
       "  Touchscreen  latest_price  \n",
       "0          No         24990  \n",
       "1          No         19590  \n",
       "2          No         19990  \n",
       "3          No         21490  \n",
       "4          No         24990  "
      ]
     },
     "execution_count": 95,
     "metadata": {},
     "output_type": "execute_result"
    }
   ],
   "source": [
    "laptops.head()"
   ]
  },
  {
   "cell_type": "code",
   "execution_count": 96,
   "metadata": {},
   "outputs": [
    {
     "data": {
      "text/plain": [
       "Touchscreen\n",
       "False    896\n",
       "Name: count, dtype: int64"
      ]
     },
     "execution_count": 96,
     "metadata": {},
     "output_type": "execute_result"
    }
   ],
   "source": [
    "laptops[\"Touchscreen\"].isnull().value_counts()"
   ]
  },
  {
   "cell_type": "code",
   "execution_count": 97,
   "metadata": {},
   "outputs": [
    {
     "data": {
      "text/plain": [
       "array(['10th', 'Missing', '11th', '7th', '8th', '9th', '4th', '12th'],\n",
       "      dtype=object)"
      ]
     },
     "execution_count": 97,
     "metadata": {},
     "output_type": "execute_result"
    }
   ],
   "source": [
    "laptops[\"processor_gnrtn\"].unique()"
   ]
  },
  {
   "cell_type": "code",
   "execution_count": 98,
   "metadata": {},
   "outputs": [
    {
     "data": {
      "text/plain": [
       "brand  model     processor_brand  processor_name  processor_gnrtn  ram_gb   ram_type  ssd      hdd      os       os_bit  graphic_card_gb  Touchscreen  latest_price\n",
       "acer   Aspire    AMD              Ryzen 5         Missing          4 GB GB  DDR4      512 GB   0 GB     Windows  64-bit  0                No           49990           2\n",
       "ASUS   ROG       AMD              Ryzen 9         Missing          4 GB GB  LPDDR4X   1024 GB  0 GB     Windows  64-bit  4                Yes          124990          2\n",
       "       EeeBook   Intel            Celeron Dual    Missing          4 GB GB  DDR4      0 GB     512 GB   Windows  64-bit  0                No           22990           2\n",
       "       ROG       AMD              Ryzen 7         Missing          8 GB GB  DDR4      512 GB   0 GB     Windows  64-bit  4                No           71990           2\n",
       "       Pentium   Intel            Pentium Quad    Missing          4 GB GB  DDR4      0 GB     1024 GB  Windows  64-bit  0                No           25990           2\n",
       "                                                                                                                                                                      ..\n",
       "       Zephyrus  AMD              Ryzen 9         Missing          4 GB GB  DDR4      1024 GB  0 GB     Windows  64-bit  0                No           121990          1\n",
       "Avita  Cosmos    Intel            Celeron Dual    Missing          4 GB GB  DDR4      0 GB     512 GB   Windows  64-bit  0                No           17490           1\n",
       "DELL   DELL      AMD              Ryzen 3         Missing          4 GB GB  DDR4      0 GB     1024 GB  Windows  64-bit  0                No           43990           1\n",
       "       G5        AMD              Ryzen 5         Missing          4 GB GB  DDR4      512 GB   0 GB     Windows  64-bit  6                No           76190           1\n",
       "iball  CompBook  Intel            Pentium Quad    Missing          4 GB GB  DDR3      0 GB     512 GB   Windows  64-bit  0                No           13990           1\n",
       "Name: count, Length: 232, dtype: int64"
      ]
     },
     "execution_count": 98,
     "metadata": {},
     "output_type": "execute_result"
    }
   ],
   "source": [
    "laptops[laptops[\"processor_gnrtn\"] == \"Missing\"].value_counts()"
   ]
  },
  {
   "cell_type": "code",
   "execution_count": 99,
   "metadata": {},
   "outputs": [
    {
     "name": "stdout",
     "output_type": "stream",
     "text": [
      "<class 'pandas.core.frame.DataFrame'>\n",
      "RangeIndex: 896 entries, 0 to 895\n",
      "Data columns (total 14 columns):\n",
      " #   Column           Non-Null Count  Dtype \n",
      "---  ------           --------------  ----- \n",
      " 0   brand            896 non-null    object\n",
      " 1   model            896 non-null    object\n",
      " 2   processor_brand  896 non-null    object\n",
      " 3   processor_name   896 non-null    object\n",
      " 4   processor_gnrtn  896 non-null    object\n",
      " 5   ram_gb           896 non-null    object\n",
      " 6   ram_type         896 non-null    object\n",
      " 7   ssd              896 non-null    object\n",
      " 8   hdd              896 non-null    object\n",
      " 9   os               896 non-null    object\n",
      " 10  os_bit           896 non-null    object\n",
      " 11  graphic_card_gb  896 non-null    int64 \n",
      " 12  Touchscreen      896 non-null    object\n",
      " 13  latest_price     896 non-null    int64 \n",
      "dtypes: int64(2), object(12)\n",
      "memory usage: 98.1+ KB\n"
     ]
    }
   ],
   "source": [
    "laptops.info()"
   ]
  },
  {
   "cell_type": "code",
   "execution_count": 100,
   "metadata": {},
   "outputs": [],
   "source": [
    "laptops = laptops.drop(laptops[laptops[\"processor_gnrtn\"] == \"Missing\"].index, axis=0)"
   ]
  },
  {
   "cell_type": "code",
   "execution_count": 101,
   "metadata": {},
   "outputs": [
    {
     "data": {
      "text/html": [
       "<div>\n",
       "<style scoped>\n",
       "    .dataframe tbody tr th:only-of-type {\n",
       "        vertical-align: middle;\n",
       "    }\n",
       "\n",
       "    .dataframe tbody tr th {\n",
       "        vertical-align: top;\n",
       "    }\n",
       "\n",
       "    .dataframe thead th {\n",
       "        text-align: right;\n",
       "    }\n",
       "</style>\n",
       "<table border=\"1\" class=\"dataframe\">\n",
       "  <thead>\n",
       "    <tr style=\"text-align: right;\">\n",
       "      <th></th>\n",
       "      <th>brand</th>\n",
       "      <th>model</th>\n",
       "      <th>processor_brand</th>\n",
       "      <th>processor_name</th>\n",
       "      <th>processor_gnrtn</th>\n",
       "      <th>ram_gb</th>\n",
       "      <th>ram_type</th>\n",
       "      <th>ssd</th>\n",
       "      <th>hdd</th>\n",
       "      <th>os</th>\n",
       "      <th>os_bit</th>\n",
       "      <th>graphic_card_gb</th>\n",
       "      <th>Touchscreen</th>\n",
       "      <th>latest_price</th>\n",
       "    </tr>\n",
       "  </thead>\n",
       "  <tbody>\n",
       "    <tr>\n",
       "      <th>0</th>\n",
       "      <td>Lenovo</td>\n",
       "      <td>A6-9225</td>\n",
       "      <td>AMD</td>\n",
       "      <td>A6-9225 Processor</td>\n",
       "      <td>10th</td>\n",
       "      <td>4 GB GB</td>\n",
       "      <td>DDR4</td>\n",
       "      <td>0 GB</td>\n",
       "      <td>1024 GB</td>\n",
       "      <td>Windows</td>\n",
       "      <td>64-bit</td>\n",
       "      <td>0</td>\n",
       "      <td>No</td>\n",
       "      <td>24990</td>\n",
       "    </tr>\n",
       "    <tr>\n",
       "      <th>1</th>\n",
       "      <td>Lenovo</td>\n",
       "      <td>Ideapad</td>\n",
       "      <td>AMD</td>\n",
       "      <td>APU Dual</td>\n",
       "      <td>10th</td>\n",
       "      <td>4 GB GB</td>\n",
       "      <td>DDR4</td>\n",
       "      <td>0 GB</td>\n",
       "      <td>512 GB</td>\n",
       "      <td>Windows</td>\n",
       "      <td>64-bit</td>\n",
       "      <td>0</td>\n",
       "      <td>No</td>\n",
       "      <td>19590</td>\n",
       "    </tr>\n",
       "    <tr>\n",
       "      <th>2</th>\n",
       "      <td>Avita</td>\n",
       "      <td>PURA</td>\n",
       "      <td>AMD</td>\n",
       "      <td>APU Dual</td>\n",
       "      <td>10th</td>\n",
       "      <td>4 GB GB</td>\n",
       "      <td>DDR4</td>\n",
       "      <td>128 GB</td>\n",
       "      <td>0 GB</td>\n",
       "      <td>Windows</td>\n",
       "      <td>64-bit</td>\n",
       "      <td>0</td>\n",
       "      <td>No</td>\n",
       "      <td>19990</td>\n",
       "    </tr>\n",
       "    <tr>\n",
       "      <th>3</th>\n",
       "      <td>Avita</td>\n",
       "      <td>PURA</td>\n",
       "      <td>AMD</td>\n",
       "      <td>APU Dual</td>\n",
       "      <td>10th</td>\n",
       "      <td>4 GB GB</td>\n",
       "      <td>DDR4</td>\n",
       "      <td>128 GB</td>\n",
       "      <td>0 GB</td>\n",
       "      <td>Windows</td>\n",
       "      <td>64-bit</td>\n",
       "      <td>0</td>\n",
       "      <td>No</td>\n",
       "      <td>21490</td>\n",
       "    </tr>\n",
       "    <tr>\n",
       "      <th>4</th>\n",
       "      <td>Avita</td>\n",
       "      <td>PURA</td>\n",
       "      <td>AMD</td>\n",
       "      <td>APU Dual</td>\n",
       "      <td>10th</td>\n",
       "      <td>4 GB GB</td>\n",
       "      <td>DDR4</td>\n",
       "      <td>256 GB</td>\n",
       "      <td>0 GB</td>\n",
       "      <td>Windows</td>\n",
       "      <td>64-bit</td>\n",
       "      <td>0</td>\n",
       "      <td>No</td>\n",
       "      <td>24990</td>\n",
       "    </tr>\n",
       "  </tbody>\n",
       "</table>\n",
       "</div>"
      ],
      "text/plain": [
       "    brand    model processor_brand     processor_name processor_gnrtn  \\\n",
       "0  Lenovo  A6-9225             AMD  A6-9225 Processor            10th   \n",
       "1  Lenovo  Ideapad             AMD           APU Dual            10th   \n",
       "2   Avita     PURA             AMD           APU Dual            10th   \n",
       "3   Avita     PURA             AMD           APU Dual            10th   \n",
       "4   Avita     PURA             AMD           APU Dual            10th   \n",
       "\n",
       "    ram_gb ram_type     ssd      hdd       os  os_bit  graphic_card_gb  \\\n",
       "0  4 GB GB     DDR4    0 GB  1024 GB  Windows  64-bit                0   \n",
       "1  4 GB GB     DDR4    0 GB   512 GB  Windows  64-bit                0   \n",
       "2  4 GB GB     DDR4  128 GB     0 GB  Windows  64-bit                0   \n",
       "3  4 GB GB     DDR4  128 GB     0 GB  Windows  64-bit                0   \n",
       "4  4 GB GB     DDR4  256 GB     0 GB  Windows  64-bit                0   \n",
       "\n",
       "  Touchscreen  latest_price  \n",
       "0          No         24990  \n",
       "1          No         19590  \n",
       "2          No         19990  \n",
       "3          No         21490  \n",
       "4          No         24990  "
      ]
     },
     "execution_count": 101,
     "metadata": {},
     "output_type": "execute_result"
    }
   ],
   "source": [
    "laptops.head()"
   ]
  },
  {
   "cell_type": "code",
   "execution_count": 70,
   "metadata": {},
   "outputs": [
    {
     "data": {
      "text/plain": [
       "0    10\n",
       "1    10\n",
       "2    10\n",
       "3    10\n",
       "4    10\n",
       "Name: processor_gnrtn, dtype: object"
      ]
     },
     "execution_count": 70,
     "metadata": {},
     "output_type": "execute_result"
    }
   ],
   "source": []
  },
  {
   "cell_type": "code",
   "execution_count": 103,
   "metadata": {},
   "outputs": [],
   "source": [
    "laptops[\"processor_gnrtn\"] = laptops[\"processor_gnrtn\"].str.replace(\"th\", \"\")"
   ]
  },
  {
   "cell_type": "code",
   "execution_count": 104,
   "metadata": {},
   "outputs": [
    {
     "data": {
      "text/plain": [
       "array(['10', '11', '7', '8', '9', '4', '12'], dtype=object)"
      ]
     },
     "execution_count": 104,
     "metadata": {},
     "output_type": "execute_result"
    }
   ],
   "source": [
    "laptops[\"processor_gnrtn\"].unique()"
   ]
  },
  {
   "cell_type": "code",
   "execution_count": 105,
   "metadata": {},
   "outputs": [],
   "source": [
    "laptops[\"processor_gnrtn\"] = laptops[\"processor_gnrtn\"].astype(int)"
   ]
  },
  {
   "cell_type": "code",
   "execution_count": 109,
   "metadata": {},
   "outputs": [
    {
     "name": "stdout",
     "output_type": "stream",
     "text": [
      "<class 'pandas.core.frame.DataFrame'>\n",
      "Index: 657 entries, 0 to 895\n",
      "Data columns (total 14 columns):\n",
      " #   Column           Non-Null Count  Dtype \n",
      "---  ------           --------------  ----- \n",
      " 0   brand            657 non-null    object\n",
      " 1   model            657 non-null    object\n",
      " 2   processor_brand  657 non-null    object\n",
      " 3   processor_name   657 non-null    object\n",
      " 4   processor_gnrtn  657 non-null    int32 \n",
      " 5   ram_gb           657 non-null    object\n",
      " 6   ram_type         657 non-null    object\n",
      " 7   ssd              657 non-null    object\n",
      " 8   hdd              657 non-null    object\n",
      " 9   os               657 non-null    object\n",
      " 10  os_bit           657 non-null    object\n",
      " 11  graphic_card_gb  657 non-null    int64 \n",
      " 12  Touchscreen      657 non-null    object\n",
      " 13  latest_price     657 non-null    int64 \n",
      "dtypes: int32(1), int64(2), object(11)\n",
      "memory usage: 74.4+ KB\n"
     ]
    }
   ],
   "source": [
    "laptops.info()"
   ]
  },
  {
   "cell_type": "code",
   "execution_count": 126,
   "metadata": {},
   "outputs": [],
   "source": [
    "laptops[\"Touchscreen\"] = laptops[\"Touchscreen\"].apply(lambda x: 1 if \"Yes\" in x else 0)"
   ]
  },
  {
   "cell_type": "code",
   "execution_count": 133,
   "metadata": {},
   "outputs": [],
   "source": [
    "laptops[\"os_bit\"] = laptops[\"os_bit\"].str.split(\"-\").str.get(0).astype(int)"
   ]
  },
  {
   "cell_type": "code",
   "execution_count": 136,
   "metadata": {},
   "outputs": [],
   "source": [
    "laptops[\"ssd\"] = laptops[\"ssd\"].str.split(\" \").str.get(0).astype(int)"
   ]
  },
  {
   "cell_type": "code",
   "execution_count": 137,
   "metadata": {},
   "outputs": [],
   "source": [
    "laptops[\"hdd\"] = laptops[\"hdd\"].str.split(\" \").str.get(0).astype(int)"
   ]
  },
  {
   "cell_type": "code",
   "execution_count": 138,
   "metadata": {},
   "outputs": [
    {
     "name": "stdout",
     "output_type": "stream",
     "text": [
      "<class 'pandas.core.frame.DataFrame'>\n",
      "Index: 657 entries, 0 to 895\n",
      "Data columns (total 14 columns):\n",
      " #   Column           Non-Null Count  Dtype \n",
      "---  ------           --------------  ----- \n",
      " 0   brand            657 non-null    object\n",
      " 1   model            657 non-null    object\n",
      " 2   processor_brand  657 non-null    object\n",
      " 3   processor_name   657 non-null    object\n",
      " 4   processor_gnrtn  657 non-null    int32 \n",
      " 5   ram_gb           657 non-null    object\n",
      " 6   ram_type         657 non-null    object\n",
      " 7   ssd              657 non-null    int32 \n",
      " 8   hdd              657 non-null    int32 \n",
      " 9   os               657 non-null    object\n",
      " 10  os_bit           657 non-null    int32 \n",
      " 11  graphic_card_gb  657 non-null    int64 \n",
      " 12  Touchscreen      657 non-null    int64 \n",
      " 13  latest_price     657 non-null    int64 \n",
      "dtypes: int32(4), int64(3), object(7)\n",
      "memory usage: 66.7+ KB\n"
     ]
    }
   ],
   "source": []
  },
  {
   "cell_type": "code",
   "execution_count": 139,
   "metadata": {},
   "outputs": [
    {
     "data": {
      "text/plain": [
       "array(['DDR4', 'LPDDR4X', 'LPDDR4', 'DDR3', 'LPDDR3', 'DDR5'],\n",
       "      dtype=object)"
      ]
     },
     "execution_count": 139,
     "metadata": {},
     "output_type": "execute_result"
    }
   ],
   "source": [
    "laptops[\"ram_type\"].unique()"
   ]
  },
  {
   "cell_type": "code",
   "execution_count": 143,
   "metadata": {},
   "outputs": [],
   "source": [
    "laptops[\"ram_gb\"] = laptops[\"ram_gb\"].str.split(\" \").str.get(0).astype(int)"
   ]
  },
  {
   "cell_type": "code",
   "execution_count": 144,
   "metadata": {},
   "outputs": [
    {
     "name": "stdout",
     "output_type": "stream",
     "text": [
      "<class 'pandas.core.frame.DataFrame'>\n",
      "Index: 657 entries, 0 to 895\n",
      "Data columns (total 14 columns):\n",
      " #   Column           Non-Null Count  Dtype \n",
      "---  ------           --------------  ----- \n",
      " 0   brand            657 non-null    object\n",
      " 1   model            657 non-null    object\n",
      " 2   processor_brand  657 non-null    object\n",
      " 3   processor_name   657 non-null    object\n",
      " 4   processor_gnrtn  657 non-null    int32 \n",
      " 5   ram_gb           657 non-null    int32 \n",
      " 6   ram_type         657 non-null    object\n",
      " 7   ssd              657 non-null    int32 \n",
      " 8   hdd              657 non-null    int32 \n",
      " 9   os               657 non-null    object\n",
      " 10  os_bit           657 non-null    int32 \n",
      " 11  graphic_card_gb  657 non-null    int64 \n",
      " 12  Touchscreen      657 non-null    int64 \n",
      " 13  latest_price     657 non-null    int64 \n",
      "dtypes: int32(5), int64(3), object(6)\n",
      "memory usage: 64.2+ KB\n"
     ]
    }
   ],
   "source": [
    "laptops.info()"
   ]
  },
  {
   "cell_type": "code",
   "execution_count": 146,
   "metadata": {},
   "outputs": [
    {
     "data": {
      "text/html": [
       "<div>\n",
       "<style scoped>\n",
       "    .dataframe tbody tr th:only-of-type {\n",
       "        vertical-align: middle;\n",
       "    }\n",
       "\n",
       "    .dataframe tbody tr th {\n",
       "        vertical-align: top;\n",
       "    }\n",
       "\n",
       "    .dataframe thead th {\n",
       "        text-align: right;\n",
       "    }\n",
       "</style>\n",
       "<table border=\"1\" class=\"dataframe\">\n",
       "  <thead>\n",
       "    <tr style=\"text-align: right;\">\n",
       "      <th></th>\n",
       "      <th>brand</th>\n",
       "      <th>model</th>\n",
       "      <th>processor_brand</th>\n",
       "      <th>processor_name</th>\n",
       "      <th>processor_gnrtn</th>\n",
       "      <th>ram_gb</th>\n",
       "      <th>ram_type</th>\n",
       "      <th>ssd</th>\n",
       "      <th>hdd</th>\n",
       "      <th>os</th>\n",
       "      <th>os_bit</th>\n",
       "      <th>graphic_card_gb</th>\n",
       "      <th>Touchscreen</th>\n",
       "      <th>latest_price</th>\n",
       "    </tr>\n",
       "  </thead>\n",
       "  <tbody>\n",
       "    <tr>\n",
       "      <th>0</th>\n",
       "      <td>Lenovo</td>\n",
       "      <td>A6-9225</td>\n",
       "      <td>AMD</td>\n",
       "      <td>A6-9225 Processor</td>\n",
       "      <td>10</td>\n",
       "      <td>4</td>\n",
       "      <td>DDR4</td>\n",
       "      <td>0</td>\n",
       "      <td>1024</td>\n",
       "      <td>Windows</td>\n",
       "      <td>64</td>\n",
       "      <td>0</td>\n",
       "      <td>0</td>\n",
       "      <td>24990</td>\n",
       "    </tr>\n",
       "    <tr>\n",
       "      <th>1</th>\n",
       "      <td>Lenovo</td>\n",
       "      <td>Ideapad</td>\n",
       "      <td>AMD</td>\n",
       "      <td>APU Dual</td>\n",
       "      <td>10</td>\n",
       "      <td>4</td>\n",
       "      <td>DDR4</td>\n",
       "      <td>0</td>\n",
       "      <td>512</td>\n",
       "      <td>Windows</td>\n",
       "      <td>64</td>\n",
       "      <td>0</td>\n",
       "      <td>0</td>\n",
       "      <td>19590</td>\n",
       "    </tr>\n",
       "    <tr>\n",
       "      <th>2</th>\n",
       "      <td>Avita</td>\n",
       "      <td>PURA</td>\n",
       "      <td>AMD</td>\n",
       "      <td>APU Dual</td>\n",
       "      <td>10</td>\n",
       "      <td>4</td>\n",
       "      <td>DDR4</td>\n",
       "      <td>128</td>\n",
       "      <td>0</td>\n",
       "      <td>Windows</td>\n",
       "      <td>64</td>\n",
       "      <td>0</td>\n",
       "      <td>0</td>\n",
       "      <td>19990</td>\n",
       "    </tr>\n",
       "    <tr>\n",
       "      <th>3</th>\n",
       "      <td>Avita</td>\n",
       "      <td>PURA</td>\n",
       "      <td>AMD</td>\n",
       "      <td>APU Dual</td>\n",
       "      <td>10</td>\n",
       "      <td>4</td>\n",
       "      <td>DDR4</td>\n",
       "      <td>128</td>\n",
       "      <td>0</td>\n",
       "      <td>Windows</td>\n",
       "      <td>64</td>\n",
       "      <td>0</td>\n",
       "      <td>0</td>\n",
       "      <td>21490</td>\n",
       "    </tr>\n",
       "    <tr>\n",
       "      <th>4</th>\n",
       "      <td>Avita</td>\n",
       "      <td>PURA</td>\n",
       "      <td>AMD</td>\n",
       "      <td>APU Dual</td>\n",
       "      <td>10</td>\n",
       "      <td>4</td>\n",
       "      <td>DDR4</td>\n",
       "      <td>256</td>\n",
       "      <td>0</td>\n",
       "      <td>Windows</td>\n",
       "      <td>64</td>\n",
       "      <td>0</td>\n",
       "      <td>0</td>\n",
       "      <td>24990</td>\n",
       "    </tr>\n",
       "    <tr>\n",
       "      <th>...</th>\n",
       "      <td>...</td>\n",
       "      <td>...</td>\n",
       "      <td>...</td>\n",
       "      <td>...</td>\n",
       "      <td>...</td>\n",
       "      <td>...</td>\n",
       "      <td>...</td>\n",
       "      <td>...</td>\n",
       "      <td>...</td>\n",
       "      <td>...</td>\n",
       "      <td>...</td>\n",
       "      <td>...</td>\n",
       "      <td>...</td>\n",
       "      <td>...</td>\n",
       "    </tr>\n",
       "    <tr>\n",
       "      <th>652</th>\n",
       "      <td>HP</td>\n",
       "      <td>Chromebook</td>\n",
       "      <td>MediaTek</td>\n",
       "      <td>MediaTek Kompanio</td>\n",
       "      <td>10</td>\n",
       "      <td>4</td>\n",
       "      <td>DDR4</td>\n",
       "      <td>0</td>\n",
       "      <td>512</td>\n",
       "      <td>DOS</td>\n",
       "      <td>32</td>\n",
       "      <td>0</td>\n",
       "      <td>0</td>\n",
       "      <td>22990</td>\n",
       "    </tr>\n",
       "    <tr>\n",
       "      <th>653</th>\n",
       "      <td>HP</td>\n",
       "      <td>Chromebook</td>\n",
       "      <td>MediaTek</td>\n",
       "      <td>MediaTek Kompanio</td>\n",
       "      <td>10</td>\n",
       "      <td>4</td>\n",
       "      <td>LPDDR4X</td>\n",
       "      <td>0</td>\n",
       "      <td>512</td>\n",
       "      <td>DOS</td>\n",
       "      <td>32</td>\n",
       "      <td>0</td>\n",
       "      <td>0</td>\n",
       "      <td>22490</td>\n",
       "    </tr>\n",
       "    <tr>\n",
       "      <th>654</th>\n",
       "      <td>HP</td>\n",
       "      <td>Chromebook</td>\n",
       "      <td>MediaTek</td>\n",
       "      <td>MediaTek Kompanio</td>\n",
       "      <td>10</td>\n",
       "      <td>4</td>\n",
       "      <td>LPDDR4X</td>\n",
       "      <td>0</td>\n",
       "      <td>512</td>\n",
       "      <td>DOS</td>\n",
       "      <td>32</td>\n",
       "      <td>0</td>\n",
       "      <td>0</td>\n",
       "      <td>22990</td>\n",
       "    </tr>\n",
       "    <tr>\n",
       "      <th>655</th>\n",
       "      <td>ASUS</td>\n",
       "      <td>APU</td>\n",
       "      <td>AMD</td>\n",
       "      <td>Quad</td>\n",
       "      <td>10</td>\n",
       "      <td>4</td>\n",
       "      <td>DDR4</td>\n",
       "      <td>0</td>\n",
       "      <td>512</td>\n",
       "      <td>DOS</td>\n",
       "      <td>32</td>\n",
       "      <td>0</td>\n",
       "      <td>0</td>\n",
       "      <td>19990</td>\n",
       "    </tr>\n",
       "    <tr>\n",
       "      <th>656</th>\n",
       "      <td>Lenovo</td>\n",
       "      <td>Thinkpad</td>\n",
       "      <td>AMD</td>\n",
       "      <td>Ryzen 5</td>\n",
       "      <td>10</td>\n",
       "      <td>8</td>\n",
       "      <td>DDR4</td>\n",
       "      <td>512</td>\n",
       "      <td>0</td>\n",
       "      <td>DOS</td>\n",
       "      <td>64</td>\n",
       "      <td>0</td>\n",
       "      <td>0</td>\n",
       "      <td>57490</td>\n",
       "    </tr>\n",
       "  </tbody>\n",
       "</table>\n",
       "<p>657 rows × 14 columns</p>\n",
       "</div>"
      ],
      "text/plain": [
       "      brand       model processor_brand     processor_name  processor_gnrtn  \\\n",
       "0    Lenovo     A6-9225             AMD  A6-9225 Processor               10   \n",
       "1    Lenovo     Ideapad             AMD           APU Dual               10   \n",
       "2     Avita        PURA             AMD           APU Dual               10   \n",
       "3     Avita        PURA             AMD           APU Dual               10   \n",
       "4     Avita        PURA             AMD           APU Dual               10   \n",
       "..      ...         ...             ...                ...              ...   \n",
       "652      HP  Chromebook        MediaTek  MediaTek Kompanio               10   \n",
       "653      HP  Chromebook        MediaTek  MediaTek Kompanio               10   \n",
       "654      HP  Chromebook        MediaTek  MediaTek Kompanio               10   \n",
       "655    ASUS         APU             AMD               Quad               10   \n",
       "656  Lenovo    Thinkpad             AMD            Ryzen 5               10   \n",
       "\n",
       "     ram_gb ram_type  ssd   hdd       os  os_bit  graphic_card_gb  \\\n",
       "0         4     DDR4    0  1024  Windows      64                0   \n",
       "1         4     DDR4    0   512  Windows      64                0   \n",
       "2         4     DDR4  128     0  Windows      64                0   \n",
       "3         4     DDR4  128     0  Windows      64                0   \n",
       "4         4     DDR4  256     0  Windows      64                0   \n",
       "..      ...      ...  ...   ...      ...     ...              ...   \n",
       "652       4     DDR4    0   512      DOS      32                0   \n",
       "653       4  LPDDR4X    0   512      DOS      32                0   \n",
       "654       4  LPDDR4X    0   512      DOS      32                0   \n",
       "655       4     DDR4    0   512      DOS      32                0   \n",
       "656       8     DDR4  512     0      DOS      64                0   \n",
       "\n",
       "     Touchscreen  latest_price  \n",
       "0              0         24990  \n",
       "1              0         19590  \n",
       "2              0         19990  \n",
       "3              0         21490  \n",
       "4              0         24990  \n",
       "..           ...           ...  \n",
       "652            0         22990  \n",
       "653            0         22490  \n",
       "654            0         22990  \n",
       "655            0         19990  \n",
       "656            0         57490  \n",
       "\n",
       "[657 rows x 14 columns]"
      ]
     },
     "execution_count": 146,
     "metadata": {},
     "output_type": "execute_result"
    }
   ],
   "source": [
    "laptops.reset_index(drop=True)"
   ]
  },
  {
   "cell_type": "code",
   "execution_count": 238,
   "metadata": {},
   "outputs": [
    {
     "name": "stdout",
     "output_type": "stream",
     "text": [
      "['APU', 'Athlon', 'x360', '15q', '250-G6', 'Missing', 'Pavilion', '14s', '15s', 'Notebook', 'DA', 'Omen', 'Spectre', 'Envy', 'HP', '430', '250', 'OMEN', '15', 'Chromebook']\n"
     ]
    }
   ],
   "source": [
    "laptops[\"brand\"].unique()\n",
    "brand_list = list(laptops[laptops[\"brand\"] == \"HP\"][\"model\"].unique())\n",
    "print(brand_list)\n"
   ]
  },
  {
   "cell_type": "code",
   "execution_count": 148,
   "metadata": {},
   "outputs": [
    {
     "data": {
      "text/plain": [
       "array(['A6-9225', 'Ideapad', 'PURA', 'APU', 'Athlon', 'Aspire',\n",
       "       'ExpertBook', 'Missing', 'v15', 'Nitro', 'x360', '15q', '250-G6',\n",
       "       'IdeaPad', 'VivoBook', 'Vostro', '15', 'Pavilion', 'Book',\n",
       "       'Inspiron', 'INBook', 'ThinkPad', 'Commercial', '14s', 'INSPIRON',\n",
       "       'V15', '15s', '3000', 'Notebook', 'Vivo', 'DA', 'Insprion',\n",
       "       'Travelmate', 'Swift', 'ROG', 'XPS', 'Omen', 'Surface', 't.book',\n",
       "       'Yoga', 'Gram', 'Spectre', 'VivoBook14', 'TUF', 'Book(Slim)',\n",
       "       'Pro', 'PureBook', 'ASUS', 'Katana', 'GF63', 'Thinkbook', 'Intel',\n",
       "       'G15', 'ZenBook', 'Legion', 'Modern', 'ThinkBook', 'Prestige',\n",
       "       'Zenbook', 'MacBook', 'Sword', 'Envy', 'SE', 'ConceptD', 'HP',\n",
       "       'DELL', 'X390', 'Thinpad', 'Inpiron', 'GAMING', 'GS', '430',\n",
       "       'Liber', 'F17', 'B50-70', 'GE76', 'GP65', 'GP76', '250', '3511',\n",
       "       'G3', 'GS66', 'X1', 'GF65', 'Stealth', 'Zephyrus', 'Summit',\n",
       "       'OMEN', 'Pulse', 'Predator', 'WF65', 'Creator', 'Chromebook', 'G7',\n",
       "       'Thinkpad'], dtype=object)"
      ]
     },
     "execution_count": 148,
     "metadata": {},
     "output_type": "execute_result"
    }
   ],
   "source": [
    "laptops[\"model\"].unique()"
   ]
  },
  {
   "cell_type": "code",
   "execution_count": 149,
   "metadata": {},
   "outputs": [
    {
     "data": {
      "text/plain": [
       "array(['AMD', 'Intel', 'M1', 'MediaTek'], dtype=object)"
      ]
     },
     "execution_count": 149,
     "metadata": {},
     "output_type": "execute_result"
    }
   ],
   "source": [
    "laptops[\"processor_brand\"].unique()"
   ]
  },
  {
   "cell_type": "code",
   "execution_count": 150,
   "metadata": {},
   "outputs": [
    {
     "data": {
      "text/plain": [
       "array(['A6-9225 Processor', 'APU Dual', 'Athlon Dual', 'Core i3',\n",
       "       'Core i5', 'Ryzen', 'Ryzen 5', 'Core i7', 'Core i9', 'Core m3',\n",
       "       'Dual Core', 'Ever Screenpad', 'GeForce GTX', 'GeForce RTX',\n",
       "       'GEFORCE RTX', 'M1', 'Genuine Windows', 'MediaTek Kompanio',\n",
       "       'Quad'], dtype=object)"
      ]
     },
     "execution_count": 150,
     "metadata": {},
     "output_type": "execute_result"
    }
   ],
   "source": [
    "laptops[\"processor_name\"].unique()"
   ]
  },
  {
   "cell_type": "code",
   "execution_count": 151,
   "metadata": {},
   "outputs": [
    {
     "data": {
      "text/plain": [
       "array(['Windows', 'DOS', 'Mac'], dtype=object)"
      ]
     },
     "execution_count": 151,
     "metadata": {},
     "output_type": "execute_result"
    }
   ],
   "source": [
    "laptops[\"os\"].unique()"
   ]
  },
  {
   "cell_type": "code",
   "execution_count": 231,
   "metadata": {},
   "outputs": [
    {
     "name": "stdout",
     "output_type": "stream",
     "text": [
      "<class 'pandas.core.frame.DataFrame'>\n",
      "Index: 657 entries, 0 to 895\n",
      "Data columns (total 14 columns):\n",
      " #   Column           Non-Null Count  Dtype \n",
      "---  ------           --------------  ----- \n",
      " 0   brand            657 non-null    object\n",
      " 1   model            657 non-null    object\n",
      " 2   processor_brand  657 non-null    object\n",
      " 3   processor_name   657 non-null    object\n",
      " 4   processor_gnrtn  657 non-null    int32 \n",
      " 5   ram_gb           657 non-null    int32 \n",
      " 6   ram_type         657 non-null    object\n",
      " 7   ssd              657 non-null    int32 \n",
      " 8   hdd              657 non-null    int32 \n",
      " 9   os               657 non-null    object\n",
      " 10  os_bit           657 non-null    int32 \n",
      " 11  graphic_card_gb  657 non-null    int64 \n",
      " 12  Touchscreen      657 non-null    int64 \n",
      " 13  latest_price     657 non-null    int64 \n",
      "dtypes: int32(5), int64(3), object(6)\n",
      "memory usage: 64.2+ KB\n"
     ]
    }
   ],
   "source": [
    "laptops[\"ram_type\"].unique()\n",
    "laptops.info()\n",
    "laptops.to_csv(\"laptop_data_cleaned.csv\")"
   ]
  },
  {
   "cell_type": "code",
   "execution_count": 153,
   "metadata": {},
   "outputs": [],
   "source": [
    "train_data = laptops.drop(columns=\"latest_price\")"
   ]
  },
  {
   "cell_type": "code",
   "execution_count": 154,
   "metadata": {},
   "outputs": [],
   "source": [
    "test_data = laptops[\"latest_price\"]"
   ]
  },
  {
   "cell_type": "code",
   "execution_count": 155,
   "metadata": {},
   "outputs": [],
   "source": [
    "from sklearn.metrics import r2_score \n",
    "from sklearn.linear_model import LinearRegression, Lasso, Ridge, ElasticNet\n",
    "from sklearn.preprocessing import OneHotEncoder\n",
    "from sklearn.compose import make_column_transformer\n",
    "from sklearn.pipeline import make_pipeline"
   ]
  },
  {
   "cell_type": "code",
   "execution_count": 163,
   "metadata": {},
   "outputs": [
    {
     "data": {
      "text/plain": [
       "[array(['ALIENWARE', 'APPLE', 'ASUS', 'Avita', 'DELL', 'HP', 'Infinix',\n",
       "        'LG', 'Lenovo', 'MICROSOFT', 'MSI', 'Mi', 'Nokia', 'RedmiBook',\n",
       "        'Smartron', 'Vaio', 'acer', 'lenovo', 'realme'], dtype=object),\n",
       " array(['14s', '15', '15q', '15s', '250', '250-G6', '3000', '3511', '430',\n",
       "        'A6-9225', 'APU', 'ASUS', 'Aspire', 'Athlon', 'B50-70', 'Book',\n",
       "        'Book(Slim)', 'Chromebook', 'Commercial', 'ConceptD', 'Creator',\n",
       "        'DA', 'DELL', 'Envy', 'ExpertBook', 'F17', 'G15', 'G3', 'G7',\n",
       "        'GAMING', 'GE76', 'GF63', 'GF65', 'GP65', 'GP76', 'GS', 'GS66',\n",
       "        'Gram', 'HP', 'INBook', 'INSPIRON', 'IdeaPad', 'Ideapad',\n",
       "        'Inpiron', 'Inspiron', 'Insprion', 'Intel', 'Katana', 'Legion',\n",
       "        'Liber', 'MacBook', 'Missing', 'Modern', 'Nitro', 'Notebook',\n",
       "        'OMEN', 'Omen', 'PURA', 'Pavilion', 'Predator', 'Prestige', 'Pro',\n",
       "        'Pulse', 'PureBook', 'ROG', 'SE', 'Spectre', 'Stealth', 'Summit',\n",
       "        'Surface', 'Swift', 'Sword', 'TUF', 'ThinkBook', 'ThinkPad',\n",
       "        'Thinkbook', 'Thinkpad', 'Thinpad', 'Travelmate', 'V15', 'Vivo',\n",
       "        'VivoBook', 'VivoBook14', 'Vostro', 'WF65', 'X1', 'X390', 'XPS',\n",
       "        'Yoga', 'ZenBook', 'Zenbook', 'Zephyrus', 't.book', 'v15', 'x360'],\n",
       "       dtype=object),\n",
       " array(['AMD', 'Intel', 'M1', 'MediaTek'], dtype=object),\n",
       " array(['A6-9225 Processor', 'APU Dual', 'Athlon Dual', 'Core i3',\n",
       "        'Core i5', 'Core i7', 'Core i9', 'Core m3', 'Dual Core',\n",
       "        'Ever Screenpad', 'GEFORCE RTX', 'GeForce GTX', 'GeForce RTX',\n",
       "        'Genuine Windows', 'M1', 'MediaTek Kompanio', 'Quad', 'Ryzen',\n",
       "        'Ryzen 5'], dtype=object),\n",
       " array(['DDR3', 'DDR4', 'DDR5', 'LPDDR3', 'LPDDR4', 'LPDDR4X'],\n",
       "       dtype=object),\n",
       " array(['DOS', 'Mac', 'Windows'], dtype=object)]"
      ]
     },
     "execution_count": 163,
     "metadata": {},
     "output_type": "execute_result"
    }
   ],
   "source": [
    "encoder = OneHotEncoder()\n",
    "encoder.fit(train_data[[\"brand\", \"model\", \"processor_brand\", \"processor_name\", \"ram_type\", \"os\"]])\n",
    "encoder.categories_"
   ]
  },
  {
   "cell_type": "code",
   "execution_count": 164,
   "metadata": {},
   "outputs": [],
   "source": [
    "col_transformer = make_column_transformer((OneHotEncoder(categories=encoder.categories_), [\"brand\", \"model\", \"processor_brand\", \"processor_name\", \"ram_type\", \"os\"]), remainder=\"passthrough\")"
   ]
  },
  {
   "cell_type": "code",
   "execution_count": 175,
   "metadata": {},
   "outputs": [],
   "source": [
    "lr = LinearRegression()\n",
    "lar = Lasso()\n",
    "rr = Ridge()\n",
    "elr = ElasticNet()\n",
    "\n",
    "models = [lr, lar, rr, elr]"
   ]
  },
  {
   "cell_type": "code",
   "execution_count": 166,
   "metadata": {},
   "outputs": [],
   "source": [
    "pipeline = make_pipeline(col_transformer, lr)"
   ]
  },
  {
   "cell_type": "code",
   "execution_count": 167,
   "metadata": {},
   "outputs": [],
   "source": [
    "from sklearn.model_selection import train_test_split"
   ]
  },
  {
   "cell_type": "code",
   "execution_count": 168,
   "metadata": {},
   "outputs": [],
   "source": [
    "X_train, X_test, y_train, y_test = train_test_split(train_data, test_data, test_size=0.2)"
   ]
  },
  {
   "cell_type": "code",
   "execution_count": 170,
   "metadata": {},
   "outputs": [
    {
     "data": {
      "text/html": [
       "<style>#sk-container-id-3 {color: black;}#sk-container-id-3 pre{padding: 0;}#sk-container-id-3 div.sk-toggleable {background-color: white;}#sk-container-id-3 label.sk-toggleable__label {cursor: pointer;display: block;width: 100%;margin-bottom: 0;padding: 0.3em;box-sizing: border-box;text-align: center;}#sk-container-id-3 label.sk-toggleable__label-arrow:before {content: \"▸\";float: left;margin-right: 0.25em;color: #696969;}#sk-container-id-3 label.sk-toggleable__label-arrow:hover:before {color: black;}#sk-container-id-3 div.sk-estimator:hover label.sk-toggleable__label-arrow:before {color: black;}#sk-container-id-3 div.sk-toggleable__content {max-height: 0;max-width: 0;overflow: hidden;text-align: left;background-color: #f0f8ff;}#sk-container-id-3 div.sk-toggleable__content pre {margin: 0.2em;color: black;border-radius: 0.25em;background-color: #f0f8ff;}#sk-container-id-3 input.sk-toggleable__control:checked~div.sk-toggleable__content {max-height: 200px;max-width: 100%;overflow: auto;}#sk-container-id-3 input.sk-toggleable__control:checked~label.sk-toggleable__label-arrow:before {content: \"▾\";}#sk-container-id-3 div.sk-estimator input.sk-toggleable__control:checked~label.sk-toggleable__label {background-color: #d4ebff;}#sk-container-id-3 div.sk-label input.sk-toggleable__control:checked~label.sk-toggleable__label {background-color: #d4ebff;}#sk-container-id-3 input.sk-hidden--visually {border: 0;clip: rect(1px 1px 1px 1px);clip: rect(1px, 1px, 1px, 1px);height: 1px;margin: -1px;overflow: hidden;padding: 0;position: absolute;width: 1px;}#sk-container-id-3 div.sk-estimator {font-family: monospace;background-color: #f0f8ff;border: 1px dotted black;border-radius: 0.25em;box-sizing: border-box;margin-bottom: 0.5em;}#sk-container-id-3 div.sk-estimator:hover {background-color: #d4ebff;}#sk-container-id-3 div.sk-parallel-item::after {content: \"\";width: 100%;border-bottom: 1px solid gray;flex-grow: 1;}#sk-container-id-3 div.sk-label:hover label.sk-toggleable__label {background-color: #d4ebff;}#sk-container-id-3 div.sk-serial::before {content: \"\";position: absolute;border-left: 1px solid gray;box-sizing: border-box;top: 0;bottom: 0;left: 50%;z-index: 0;}#sk-container-id-3 div.sk-serial {display: flex;flex-direction: column;align-items: center;background-color: white;padding-right: 0.2em;padding-left: 0.2em;position: relative;}#sk-container-id-3 div.sk-item {position: relative;z-index: 1;}#sk-container-id-3 div.sk-parallel {display: flex;align-items: stretch;justify-content: center;background-color: white;position: relative;}#sk-container-id-3 div.sk-item::before, #sk-container-id-3 div.sk-parallel-item::before {content: \"\";position: absolute;border-left: 1px solid gray;box-sizing: border-box;top: 0;bottom: 0;left: 50%;z-index: -1;}#sk-container-id-3 div.sk-parallel-item {display: flex;flex-direction: column;z-index: 1;position: relative;background-color: white;}#sk-container-id-3 div.sk-parallel-item:first-child::after {align-self: flex-end;width: 50%;}#sk-container-id-3 div.sk-parallel-item:last-child::after {align-self: flex-start;width: 50%;}#sk-container-id-3 div.sk-parallel-item:only-child::after {width: 0;}#sk-container-id-3 div.sk-dashed-wrapped {border: 1px dashed gray;margin: 0 0.4em 0.5em 0.4em;box-sizing: border-box;padding-bottom: 0.4em;background-color: white;}#sk-container-id-3 div.sk-label label {font-family: monospace;font-weight: bold;display: inline-block;line-height: 1.2em;}#sk-container-id-3 div.sk-label-container {text-align: center;}#sk-container-id-3 div.sk-container {/* jupyter's `normalize.less` sets `[hidden] { display: none; }` but bootstrap.min.css set `[hidden] { display: none !important; }` so we also need the `!important` here to be able to override the default hidden behavior on the sphinx rendered scikit-learn.org. See: https://github.com/scikit-learn/scikit-learn/issues/21755 */display: inline-block !important;position: relative;}#sk-container-id-3 div.sk-text-repr-fallback {display: none;}</style><div id=\"sk-container-id-3\" class=\"sk-top-container\"><div class=\"sk-text-repr-fallback\"><pre>Pipeline(steps=[(&#x27;columntransformer&#x27;,\n",
       "                 ColumnTransformer(remainder=&#x27;passthrough&#x27;,\n",
       "                                   transformers=[(&#x27;onehotencoder&#x27;,\n",
       "                                                  OneHotEncoder(categories=[array([&#x27;ALIENWARE&#x27;, &#x27;APPLE&#x27;, &#x27;ASUS&#x27;, &#x27;Avita&#x27;, &#x27;DELL&#x27;, &#x27;HP&#x27;, &#x27;Infinix&#x27;,\n",
       "       &#x27;LG&#x27;, &#x27;Lenovo&#x27;, &#x27;MICROSOFT&#x27;, &#x27;MSI&#x27;, &#x27;Mi&#x27;, &#x27;Nokia&#x27;, &#x27;RedmiBook&#x27;,\n",
       "       &#x27;Smartron&#x27;, &#x27;Vaio&#x27;, &#x27;acer&#x27;, &#x27;lenovo&#x27;, &#x27;realme&#x27;], dtype=object),\n",
       "                                                                            array([&#x27;14s&#x27;, &#x27;15&#x27;, &#x27;15q&#x27;, &#x27;15s&#x27;, &#x27;250&#x27;...\n",
       "       &#x27;Ever Screenpad&#x27;, &#x27;GEFORCE RTX&#x27;, &#x27;GeForce GTX&#x27;, &#x27;GeForce RTX&#x27;,\n",
       "       &#x27;Genuine Windows&#x27;, &#x27;M1&#x27;, &#x27;MediaTek Kompanio&#x27;, &#x27;Quad&#x27;, &#x27;Ryzen&#x27;,\n",
       "       &#x27;Ryzen 5&#x27;], dtype=object),\n",
       "                                                                            array([&#x27;DDR3&#x27;, &#x27;DDR4&#x27;, &#x27;DDR5&#x27;, &#x27;LPDDR3&#x27;, &#x27;LPDDR4&#x27;, &#x27;LPDDR4X&#x27;],\n",
       "      dtype=object),\n",
       "                                                                            array([&#x27;DOS&#x27;, &#x27;Mac&#x27;, &#x27;Windows&#x27;], dtype=object)]),\n",
       "                                                  [&#x27;brand&#x27;, &#x27;model&#x27;,\n",
       "                                                   &#x27;processor_brand&#x27;,\n",
       "                                                   &#x27;processor_name&#x27;, &#x27;ram_type&#x27;,\n",
       "                                                   &#x27;os&#x27;])])),\n",
       "                (&#x27;linearregression&#x27;, LinearRegression())])</pre><b>In a Jupyter environment, please rerun this cell to show the HTML representation or trust the notebook. <br />On GitHub, the HTML representation is unable to render, please try loading this page with nbviewer.org.</b></div><div class=\"sk-container\" hidden><div class=\"sk-item sk-dashed-wrapped\"><div class=\"sk-label-container\"><div class=\"sk-label sk-toggleable\"><input class=\"sk-toggleable__control sk-hidden--visually\" id=\"sk-estimator-id-9\" type=\"checkbox\" ><label for=\"sk-estimator-id-9\" class=\"sk-toggleable__label sk-toggleable__label-arrow\">Pipeline</label><div class=\"sk-toggleable__content\"><pre>Pipeline(steps=[(&#x27;columntransformer&#x27;,\n",
       "                 ColumnTransformer(remainder=&#x27;passthrough&#x27;,\n",
       "                                   transformers=[(&#x27;onehotencoder&#x27;,\n",
       "                                                  OneHotEncoder(categories=[array([&#x27;ALIENWARE&#x27;, &#x27;APPLE&#x27;, &#x27;ASUS&#x27;, &#x27;Avita&#x27;, &#x27;DELL&#x27;, &#x27;HP&#x27;, &#x27;Infinix&#x27;,\n",
       "       &#x27;LG&#x27;, &#x27;Lenovo&#x27;, &#x27;MICROSOFT&#x27;, &#x27;MSI&#x27;, &#x27;Mi&#x27;, &#x27;Nokia&#x27;, &#x27;RedmiBook&#x27;,\n",
       "       &#x27;Smartron&#x27;, &#x27;Vaio&#x27;, &#x27;acer&#x27;, &#x27;lenovo&#x27;, &#x27;realme&#x27;], dtype=object),\n",
       "                                                                            array([&#x27;14s&#x27;, &#x27;15&#x27;, &#x27;15q&#x27;, &#x27;15s&#x27;, &#x27;250&#x27;...\n",
       "       &#x27;Ever Screenpad&#x27;, &#x27;GEFORCE RTX&#x27;, &#x27;GeForce GTX&#x27;, &#x27;GeForce RTX&#x27;,\n",
       "       &#x27;Genuine Windows&#x27;, &#x27;M1&#x27;, &#x27;MediaTek Kompanio&#x27;, &#x27;Quad&#x27;, &#x27;Ryzen&#x27;,\n",
       "       &#x27;Ryzen 5&#x27;], dtype=object),\n",
       "                                                                            array([&#x27;DDR3&#x27;, &#x27;DDR4&#x27;, &#x27;DDR5&#x27;, &#x27;LPDDR3&#x27;, &#x27;LPDDR4&#x27;, &#x27;LPDDR4X&#x27;],\n",
       "      dtype=object),\n",
       "                                                                            array([&#x27;DOS&#x27;, &#x27;Mac&#x27;, &#x27;Windows&#x27;], dtype=object)]),\n",
       "                                                  [&#x27;brand&#x27;, &#x27;model&#x27;,\n",
       "                                                   &#x27;processor_brand&#x27;,\n",
       "                                                   &#x27;processor_name&#x27;, &#x27;ram_type&#x27;,\n",
       "                                                   &#x27;os&#x27;])])),\n",
       "                (&#x27;linearregression&#x27;, LinearRegression())])</pre></div></div></div><div class=\"sk-serial\"><div class=\"sk-item sk-dashed-wrapped\"><div class=\"sk-label-container\"><div class=\"sk-label sk-toggleable\"><input class=\"sk-toggleable__control sk-hidden--visually\" id=\"sk-estimator-id-10\" type=\"checkbox\" ><label for=\"sk-estimator-id-10\" class=\"sk-toggleable__label sk-toggleable__label-arrow\">columntransformer: ColumnTransformer</label><div class=\"sk-toggleable__content\"><pre>ColumnTransformer(remainder=&#x27;passthrough&#x27;,\n",
       "                  transformers=[(&#x27;onehotencoder&#x27;,\n",
       "                                 OneHotEncoder(categories=[array([&#x27;ALIENWARE&#x27;, &#x27;APPLE&#x27;, &#x27;ASUS&#x27;, &#x27;Avita&#x27;, &#x27;DELL&#x27;, &#x27;HP&#x27;, &#x27;Infinix&#x27;,\n",
       "       &#x27;LG&#x27;, &#x27;Lenovo&#x27;, &#x27;MICROSOFT&#x27;, &#x27;MSI&#x27;, &#x27;Mi&#x27;, &#x27;Nokia&#x27;, &#x27;RedmiBook&#x27;,\n",
       "       &#x27;Smartron&#x27;, &#x27;Vaio&#x27;, &#x27;acer&#x27;, &#x27;lenovo&#x27;, &#x27;realme&#x27;], dtype=object),\n",
       "                                                           array([&#x27;14s&#x27;, &#x27;15&#x27;, &#x27;15q&#x27;, &#x27;15s&#x27;, &#x27;250&#x27;, &#x27;250-G6&#x27;, &#x27;3000&#x27;, &#x27;3511&#x27;, &#x27;430&#x27;,\n",
       "       &#x27;A6-922...\n",
       "       &#x27;Core i5&#x27;, &#x27;Core i7&#x27;, &#x27;Core i9&#x27;, &#x27;Core m3&#x27;, &#x27;Dual Core&#x27;,\n",
       "       &#x27;Ever Screenpad&#x27;, &#x27;GEFORCE RTX&#x27;, &#x27;GeForce GTX&#x27;, &#x27;GeForce RTX&#x27;,\n",
       "       &#x27;Genuine Windows&#x27;, &#x27;M1&#x27;, &#x27;MediaTek Kompanio&#x27;, &#x27;Quad&#x27;, &#x27;Ryzen&#x27;,\n",
       "       &#x27;Ryzen 5&#x27;], dtype=object),\n",
       "                                                           array([&#x27;DDR3&#x27;, &#x27;DDR4&#x27;, &#x27;DDR5&#x27;, &#x27;LPDDR3&#x27;, &#x27;LPDDR4&#x27;, &#x27;LPDDR4X&#x27;],\n",
       "      dtype=object),\n",
       "                                                           array([&#x27;DOS&#x27;, &#x27;Mac&#x27;, &#x27;Windows&#x27;], dtype=object)]),\n",
       "                                 [&#x27;brand&#x27;, &#x27;model&#x27;, &#x27;processor_brand&#x27;,\n",
       "                                  &#x27;processor_name&#x27;, &#x27;ram_type&#x27;, &#x27;os&#x27;])])</pre></div></div></div><div class=\"sk-parallel\"><div class=\"sk-parallel-item\"><div class=\"sk-item\"><div class=\"sk-label-container\"><div class=\"sk-label sk-toggleable\"><input class=\"sk-toggleable__control sk-hidden--visually\" id=\"sk-estimator-id-11\" type=\"checkbox\" ><label for=\"sk-estimator-id-11\" class=\"sk-toggleable__label sk-toggleable__label-arrow\">onehotencoder</label><div class=\"sk-toggleable__content\"><pre>[&#x27;brand&#x27;, &#x27;model&#x27;, &#x27;processor_brand&#x27;, &#x27;processor_name&#x27;, &#x27;ram_type&#x27;, &#x27;os&#x27;]</pre></div></div></div><div class=\"sk-serial\"><div class=\"sk-item\"><div class=\"sk-estimator sk-toggleable\"><input class=\"sk-toggleable__control sk-hidden--visually\" id=\"sk-estimator-id-12\" type=\"checkbox\" ><label for=\"sk-estimator-id-12\" class=\"sk-toggleable__label sk-toggleable__label-arrow\">OneHotEncoder</label><div class=\"sk-toggleable__content\"><pre>OneHotEncoder(categories=[array([&#x27;ALIENWARE&#x27;, &#x27;APPLE&#x27;, &#x27;ASUS&#x27;, &#x27;Avita&#x27;, &#x27;DELL&#x27;, &#x27;HP&#x27;, &#x27;Infinix&#x27;,\n",
       "       &#x27;LG&#x27;, &#x27;Lenovo&#x27;, &#x27;MICROSOFT&#x27;, &#x27;MSI&#x27;, &#x27;Mi&#x27;, &#x27;Nokia&#x27;, &#x27;RedmiBook&#x27;,\n",
       "       &#x27;Smartron&#x27;, &#x27;Vaio&#x27;, &#x27;acer&#x27;, &#x27;lenovo&#x27;, &#x27;realme&#x27;], dtype=object),\n",
       "                          array([&#x27;14s&#x27;, &#x27;15&#x27;, &#x27;15q&#x27;, &#x27;15s&#x27;, &#x27;250&#x27;, &#x27;250-G6&#x27;, &#x27;3000&#x27;, &#x27;3511&#x27;, &#x27;430&#x27;,\n",
       "       &#x27;A6-9225&#x27;, &#x27;APU&#x27;, &#x27;ASUS&#x27;, &#x27;Aspire&#x27;, &#x27;Athlon&#x27;, &#x27;B50-70&#x27;, &#x27;Book&#x27;,\n",
       "       &#x27;Book(Slim)&#x27;, &#x27;Chromeboo...\n",
       "                          array([&#x27;A6-9225 Processor&#x27;, &#x27;APU Dual&#x27;, &#x27;Athlon Dual&#x27;, &#x27;Core i3&#x27;,\n",
       "       &#x27;Core i5&#x27;, &#x27;Core i7&#x27;, &#x27;Core i9&#x27;, &#x27;Core m3&#x27;, &#x27;Dual Core&#x27;,\n",
       "       &#x27;Ever Screenpad&#x27;, &#x27;GEFORCE RTX&#x27;, &#x27;GeForce GTX&#x27;, &#x27;GeForce RTX&#x27;,\n",
       "       &#x27;Genuine Windows&#x27;, &#x27;M1&#x27;, &#x27;MediaTek Kompanio&#x27;, &#x27;Quad&#x27;, &#x27;Ryzen&#x27;,\n",
       "       &#x27;Ryzen 5&#x27;], dtype=object),\n",
       "                          array([&#x27;DDR3&#x27;, &#x27;DDR4&#x27;, &#x27;DDR5&#x27;, &#x27;LPDDR3&#x27;, &#x27;LPDDR4&#x27;, &#x27;LPDDR4X&#x27;],\n",
       "      dtype=object),\n",
       "                          array([&#x27;DOS&#x27;, &#x27;Mac&#x27;, &#x27;Windows&#x27;], dtype=object)])</pre></div></div></div></div></div></div><div class=\"sk-parallel-item\"><div class=\"sk-item\"><div class=\"sk-label-container\"><div class=\"sk-label sk-toggleable\"><input class=\"sk-toggleable__control sk-hidden--visually\" id=\"sk-estimator-id-13\" type=\"checkbox\" ><label for=\"sk-estimator-id-13\" class=\"sk-toggleable__label sk-toggleable__label-arrow\">remainder</label><div class=\"sk-toggleable__content\"><pre>[&#x27;processor_gnrtn&#x27;, &#x27;ram_gb&#x27;, &#x27;ssd&#x27;, &#x27;hdd&#x27;, &#x27;os_bit&#x27;, &#x27;graphic_card_gb&#x27;, &#x27;Touchscreen&#x27;]</pre></div></div></div><div class=\"sk-serial\"><div class=\"sk-item\"><div class=\"sk-estimator sk-toggleable\"><input class=\"sk-toggleable__control sk-hidden--visually\" id=\"sk-estimator-id-14\" type=\"checkbox\" ><label for=\"sk-estimator-id-14\" class=\"sk-toggleable__label sk-toggleable__label-arrow\">passthrough</label><div class=\"sk-toggleable__content\"><pre>passthrough</pre></div></div></div></div></div></div></div></div><div class=\"sk-item\"><div class=\"sk-estimator sk-toggleable\"><input class=\"sk-toggleable__control sk-hidden--visually\" id=\"sk-estimator-id-15\" type=\"checkbox\" ><label for=\"sk-estimator-id-15\" class=\"sk-toggleable__label sk-toggleable__label-arrow\">LinearRegression</label><div class=\"sk-toggleable__content\"><pre>LinearRegression()</pre></div></div></div></div></div></div></div>"
      ],
      "text/plain": [
       "Pipeline(steps=[('columntransformer',\n",
       "                 ColumnTransformer(remainder='passthrough',\n",
       "                                   transformers=[('onehotencoder',\n",
       "                                                  OneHotEncoder(categories=[array(['ALIENWARE', 'APPLE', 'ASUS', 'Avita', 'DELL', 'HP', 'Infinix',\n",
       "       'LG', 'Lenovo', 'MICROSOFT', 'MSI', 'Mi', 'Nokia', 'RedmiBook',\n",
       "       'Smartron', 'Vaio', 'acer', 'lenovo', 'realme'], dtype=object),\n",
       "                                                                            array(['14s', '15', '15q', '15s', '250'...\n",
       "       'Ever Screenpad', 'GEFORCE RTX', 'GeForce GTX', 'GeForce RTX',\n",
       "       'Genuine Windows', 'M1', 'MediaTek Kompanio', 'Quad', 'Ryzen',\n",
       "       'Ryzen 5'], dtype=object),\n",
       "                                                                            array(['DDR3', 'DDR4', 'DDR5', 'LPDDR3', 'LPDDR4', 'LPDDR4X'],\n",
       "      dtype=object),\n",
       "                                                                            array(['DOS', 'Mac', 'Windows'], dtype=object)]),\n",
       "                                                  ['brand', 'model',\n",
       "                                                   'processor_brand',\n",
       "                                                   'processor_name', 'ram_type',\n",
       "                                                   'os'])])),\n",
       "                ('linearregression', LinearRegression())])"
      ]
     },
     "execution_count": 170,
     "metadata": {},
     "output_type": "execute_result"
    }
   ],
   "source": [
    "pipeline.fit(X_train, y_train)"
   ]
  },
  {
   "cell_type": "code",
   "execution_count": 171,
   "metadata": {},
   "outputs": [],
   "source": [
    "y_pred = pipeline.predict(X_test)"
   ]
  },
  {
   "cell_type": "code",
   "execution_count": 173,
   "metadata": {},
   "outputs": [],
   "source": [
    "score = r2_score(y_test, y_pred)"
   ]
  },
  {
   "cell_type": "code",
   "execution_count": 217,
   "metadata": {},
   "outputs": [
    {
     "name": "stdout",
     "output_type": "stream",
     "text": [
      "0.8737182843863415\n",
      "65\n"
     ]
    }
   ],
   "source": [
    "\n",
    "max_score = 0;\n",
    "max_i = 0\n",
    "for i in range(1000):\n",
    "    X_train, X_test, y_train, y_test = train_test_split(train_data, test_data, test_size=0.2, random_state=i)\n",
    "    pipeline = make_pipeline(col_transformer, rr)\n",
    "    pipeline.fit(X_train, y_train)\n",
    "    y_pred = pipeline.predict(X_test)\n",
    "    score = r2_score(y_test, y_pred)\n",
    "    if score > max_score:\n",
    "        max_score = score\n",
    "        max_i = i\n",
    "print(max_score)\n",
    "print(max_i)\n",
    "\n"
   ]
  },
  {
   "cell_type": "code",
   "execution_count": 219,
   "metadata": {},
   "outputs": [
    {
     "name": "stdout",
     "output_type": "stream",
     "text": [
      "0.8737182843863415\n"
     ]
    }
   ],
   "source": [
    "X_train, X_test, y_train, y_test = train_test_split(train_data, test_data, test_size=0.2, random_state=max_i)\n",
    "pipeline = make_pipeline(col_transformer, rr)\n",
    "pipeline.fit(X_train, y_train)\n",
    "y_pred = pipeline.predict(X_test)\n",
    "score = r2_score(y_test, y_pred)\n",
    "print(score)"
   ]
  },
  {
   "cell_type": "code",
   "execution_count": 220,
   "metadata": {},
   "outputs": [],
   "source": [
    "import pickle"
   ]
  },
  {
   "cell_type": "code",
   "execution_count": 221,
   "metadata": {},
   "outputs": [],
   "source": [
    "with open(\"model.pkl\", \"wb\") as file:\n",
    "    pickle.dump(pipeline, file)"
   ]
  },
  {
   "cell_type": "code",
   "execution_count": 223,
   "metadata": {},
   "outputs": [
    {
     "data": {
      "text/html": [
       "<div>\n",
       "<style scoped>\n",
       "    .dataframe tbody tr th:only-of-type {\n",
       "        vertical-align: middle;\n",
       "    }\n",
       "\n",
       "    .dataframe tbody tr th {\n",
       "        vertical-align: top;\n",
       "    }\n",
       "\n",
       "    .dataframe thead th {\n",
       "        text-align: right;\n",
       "    }\n",
       "</style>\n",
       "<table border=\"1\" class=\"dataframe\">\n",
       "  <thead>\n",
       "    <tr style=\"text-align: right;\">\n",
       "      <th></th>\n",
       "      <th>brand</th>\n",
       "      <th>model</th>\n",
       "      <th>processor_brand</th>\n",
       "      <th>processor_name</th>\n",
       "      <th>processor_gnrtn</th>\n",
       "      <th>ram_gb</th>\n",
       "      <th>ram_type</th>\n",
       "      <th>ssd</th>\n",
       "      <th>hdd</th>\n",
       "      <th>os</th>\n",
       "      <th>os_bit</th>\n",
       "      <th>graphic_card_gb</th>\n",
       "      <th>Touchscreen</th>\n",
       "      <th>latest_price</th>\n",
       "    </tr>\n",
       "  </thead>\n",
       "  <tbody>\n",
       "    <tr>\n",
       "      <th>0</th>\n",
       "      <td>Lenovo</td>\n",
       "      <td>A6-9225</td>\n",
       "      <td>AMD</td>\n",
       "      <td>A6-9225 Processor</td>\n",
       "      <td>10</td>\n",
       "      <td>4</td>\n",
       "      <td>DDR4</td>\n",
       "      <td>0</td>\n",
       "      <td>1024</td>\n",
       "      <td>Windows</td>\n",
       "      <td>64</td>\n",
       "      <td>0</td>\n",
       "      <td>0</td>\n",
       "      <td>24990</td>\n",
       "    </tr>\n",
       "    <tr>\n",
       "      <th>1</th>\n",
       "      <td>Lenovo</td>\n",
       "      <td>Ideapad</td>\n",
       "      <td>AMD</td>\n",
       "      <td>APU Dual</td>\n",
       "      <td>10</td>\n",
       "      <td>4</td>\n",
       "      <td>DDR4</td>\n",
       "      <td>0</td>\n",
       "      <td>512</td>\n",
       "      <td>Windows</td>\n",
       "      <td>64</td>\n",
       "      <td>0</td>\n",
       "      <td>0</td>\n",
       "      <td>19590</td>\n",
       "    </tr>\n",
       "    <tr>\n",
       "      <th>2</th>\n",
       "      <td>Avita</td>\n",
       "      <td>PURA</td>\n",
       "      <td>AMD</td>\n",
       "      <td>APU Dual</td>\n",
       "      <td>10</td>\n",
       "      <td>4</td>\n",
       "      <td>DDR4</td>\n",
       "      <td>128</td>\n",
       "      <td>0</td>\n",
       "      <td>Windows</td>\n",
       "      <td>64</td>\n",
       "      <td>0</td>\n",
       "      <td>0</td>\n",
       "      <td>19990</td>\n",
       "    </tr>\n",
       "    <tr>\n",
       "      <th>3</th>\n",
       "      <td>Avita</td>\n",
       "      <td>PURA</td>\n",
       "      <td>AMD</td>\n",
       "      <td>APU Dual</td>\n",
       "      <td>10</td>\n",
       "      <td>4</td>\n",
       "      <td>DDR4</td>\n",
       "      <td>128</td>\n",
       "      <td>0</td>\n",
       "      <td>Windows</td>\n",
       "      <td>64</td>\n",
       "      <td>0</td>\n",
       "      <td>0</td>\n",
       "      <td>21490</td>\n",
       "    </tr>\n",
       "    <tr>\n",
       "      <th>4</th>\n",
       "      <td>Avita</td>\n",
       "      <td>PURA</td>\n",
       "      <td>AMD</td>\n",
       "      <td>APU Dual</td>\n",
       "      <td>10</td>\n",
       "      <td>4</td>\n",
       "      <td>DDR4</td>\n",
       "      <td>256</td>\n",
       "      <td>0</td>\n",
       "      <td>Windows</td>\n",
       "      <td>64</td>\n",
       "      <td>0</td>\n",
       "      <td>0</td>\n",
       "      <td>24990</td>\n",
       "    </tr>\n",
       "    <tr>\n",
       "      <th>5</th>\n",
       "      <td>Avita</td>\n",
       "      <td>PURA</td>\n",
       "      <td>AMD</td>\n",
       "      <td>APU Dual</td>\n",
       "      <td>10</td>\n",
       "      <td>8</td>\n",
       "      <td>DDR4</td>\n",
       "      <td>256</td>\n",
       "      <td>0</td>\n",
       "      <td>Windows</td>\n",
       "      <td>64</td>\n",
       "      <td>0</td>\n",
       "      <td>0</td>\n",
       "      <td>24990</td>\n",
       "    </tr>\n",
       "    <tr>\n",
       "      <th>6</th>\n",
       "      <td>HP</td>\n",
       "      <td>APU</td>\n",
       "      <td>AMD</td>\n",
       "      <td>APU Dual</td>\n",
       "      <td>10</td>\n",
       "      <td>4</td>\n",
       "      <td>DDR4</td>\n",
       "      <td>0</td>\n",
       "      <td>1024</td>\n",
       "      <td>Windows</td>\n",
       "      <td>32</td>\n",
       "      <td>0</td>\n",
       "      <td>0</td>\n",
       "      <td>20900</td>\n",
       "    </tr>\n",
       "    <tr>\n",
       "      <th>7</th>\n",
       "      <td>Lenovo</td>\n",
       "      <td>APU</td>\n",
       "      <td>AMD</td>\n",
       "      <td>APU Dual</td>\n",
       "      <td>10</td>\n",
       "      <td>4</td>\n",
       "      <td>DDR4</td>\n",
       "      <td>0</td>\n",
       "      <td>1024</td>\n",
       "      <td>Windows</td>\n",
       "      <td>64</td>\n",
       "      <td>0</td>\n",
       "      <td>0</td>\n",
       "      <td>21896</td>\n",
       "    </tr>\n",
       "    <tr>\n",
       "      <th>8</th>\n",
       "      <td>HP</td>\n",
       "      <td>Athlon</td>\n",
       "      <td>AMD</td>\n",
       "      <td>Athlon Dual</td>\n",
       "      <td>10</td>\n",
       "      <td>32</td>\n",
       "      <td>DDR4</td>\n",
       "      <td>32</td>\n",
       "      <td>0</td>\n",
       "      <td>Windows</td>\n",
       "      <td>32</td>\n",
       "      <td>4</td>\n",
       "      <td>0</td>\n",
       "      <td>26899</td>\n",
       "    </tr>\n",
       "    <tr>\n",
       "      <th>9</th>\n",
       "      <td>acer</td>\n",
       "      <td>Aspire</td>\n",
       "      <td>AMD</td>\n",
       "      <td>Athlon Dual</td>\n",
       "      <td>10</td>\n",
       "      <td>4</td>\n",
       "      <td>DDR4</td>\n",
       "      <td>256</td>\n",
       "      <td>0</td>\n",
       "      <td>Windows</td>\n",
       "      <td>64</td>\n",
       "      <td>0</td>\n",
       "      <td>0</td>\n",
       "      <td>31990</td>\n",
       "    </tr>\n",
       "  </tbody>\n",
       "</table>\n",
       "</div>"
      ],
      "text/plain": [
       "    brand    model processor_brand     processor_name  processor_gnrtn  \\\n",
       "0  Lenovo  A6-9225             AMD  A6-9225 Processor               10   \n",
       "1  Lenovo  Ideapad             AMD           APU Dual               10   \n",
       "2   Avita     PURA             AMD           APU Dual               10   \n",
       "3   Avita     PURA             AMD           APU Dual               10   \n",
       "4   Avita     PURA             AMD           APU Dual               10   \n",
       "5   Avita     PURA             AMD           APU Dual               10   \n",
       "6      HP      APU             AMD           APU Dual               10   \n",
       "7  Lenovo      APU             AMD           APU Dual               10   \n",
       "8      HP   Athlon             AMD        Athlon Dual               10   \n",
       "9    acer   Aspire             AMD        Athlon Dual               10   \n",
       "\n",
       "   ram_gb ram_type  ssd   hdd       os  os_bit  graphic_card_gb  Touchscreen  \\\n",
       "0       4     DDR4    0  1024  Windows      64                0            0   \n",
       "1       4     DDR4    0   512  Windows      64                0            0   \n",
       "2       4     DDR4  128     0  Windows      64                0            0   \n",
       "3       4     DDR4  128     0  Windows      64                0            0   \n",
       "4       4     DDR4  256     0  Windows      64                0            0   \n",
       "5       8     DDR4  256     0  Windows      64                0            0   \n",
       "6       4     DDR4    0  1024  Windows      32                0            0   \n",
       "7       4     DDR4    0  1024  Windows      64                0            0   \n",
       "8      32     DDR4   32     0  Windows      32                4            0   \n",
       "9       4     DDR4  256     0  Windows      64                0            0   \n",
       "\n",
       "   latest_price  \n",
       "0         24990  \n",
       "1         19590  \n",
       "2         19990  \n",
       "3         21490  \n",
       "4         24990  \n",
       "5         24990  \n",
       "6         20900  \n",
       "7         21896  \n",
       "8         26899  \n",
       "9         31990  "
      ]
     },
     "execution_count": 223,
     "metadata": {},
     "output_type": "execute_result"
    }
   ],
   "source": [
    "laptops.head(10)"
   ]
  },
  {
   "cell_type": "markdown",
   "metadata": {},
   "source": [
    "laptops.columns"
   ]
  },
  {
   "cell_type": "code",
   "execution_count": 224,
   "metadata": {},
   "outputs": [
    {
     "data": {
      "text/plain": [
       "Index(['brand', 'model', 'processor_brand', 'processor_name',\n",
       "       'processor_gnrtn', 'ram_gb', 'ram_type', 'ssd', 'hdd', 'os', 'os_bit',\n",
       "       'graphic_card_gb', 'Touchscreen', 'latest_price'],\n",
       "      dtype='object')"
      ]
     },
     "execution_count": 224,
     "metadata": {},
     "output_type": "execute_result"
    }
   ],
   "source": [
    "laptops.columns"
   ]
  },
  {
   "cell_type": "code",
   "execution_count": 241,
   "metadata": {},
   "outputs": [
    {
     "data": {
      "text/plain": [
       "array([28201.36073774])"
      ]
     },
     "execution_count": 241,
     "metadata": {},
     "output_type": "execute_result"
    }
   ],
   "source": [
    "pipeline.predict(pd.DataFrame([[\"Lenovo\", \"APU\", \"AMD\", \"APU Dual\", 10, 4, \"DDR4\", 0, 1024, \"Windows\", 32, 0, 0]],\n",
    "                              columns=['brand', 'model', 'processor_brand', 'processor_name',\n",
    "       'processor_gnrtn', 'ram_gb', 'ram_type', 'ssd', 'hdd', 'os', 'os_bit',\n",
    "       'graphic_card_gb', 'Touchscreen']))"
   ]
  },
  {
   "cell_type": "code",
   "execution_count": 239,
   "metadata": {},
   "outputs": [
    {
     "data": {
      "text/html": [
       "<div>\n",
       "<style scoped>\n",
       "    .dataframe tbody tr th:only-of-type {\n",
       "        vertical-align: middle;\n",
       "    }\n",
       "\n",
       "    .dataframe tbody tr th {\n",
       "        vertical-align: top;\n",
       "    }\n",
       "\n",
       "    .dataframe thead th {\n",
       "        text-align: right;\n",
       "    }\n",
       "</style>\n",
       "<table border=\"1\" class=\"dataframe\">\n",
       "  <thead>\n",
       "    <tr style=\"text-align: right;\">\n",
       "      <th></th>\n",
       "      <th>brand</th>\n",
       "      <th>model</th>\n",
       "      <th>processor_brand</th>\n",
       "      <th>processor_name</th>\n",
       "      <th>processor_gnrtn</th>\n",
       "      <th>ram_gb</th>\n",
       "      <th>ram_type</th>\n",
       "      <th>ssd</th>\n",
       "      <th>hdd</th>\n",
       "      <th>os</th>\n",
       "      <th>os_bit</th>\n",
       "      <th>graphic_card_gb</th>\n",
       "      <th>Touchscreen</th>\n",
       "      <th>latest_price</th>\n",
       "    </tr>\n",
       "  </thead>\n",
       "  <tbody>\n",
       "    <tr>\n",
       "      <th>0</th>\n",
       "      <td>Lenovo</td>\n",
       "      <td>A6-9225</td>\n",
       "      <td>AMD</td>\n",
       "      <td>A6-9225 Processor</td>\n",
       "      <td>10</td>\n",
       "      <td>4</td>\n",
       "      <td>DDR4</td>\n",
       "      <td>0</td>\n",
       "      <td>1024</td>\n",
       "      <td>Windows</td>\n",
       "      <td>64</td>\n",
       "      <td>0</td>\n",
       "      <td>0</td>\n",
       "      <td>24990</td>\n",
       "    </tr>\n",
       "    <tr>\n",
       "      <th>1</th>\n",
       "      <td>Lenovo</td>\n",
       "      <td>Ideapad</td>\n",
       "      <td>AMD</td>\n",
       "      <td>APU Dual</td>\n",
       "      <td>10</td>\n",
       "      <td>4</td>\n",
       "      <td>DDR4</td>\n",
       "      <td>0</td>\n",
       "      <td>512</td>\n",
       "      <td>Windows</td>\n",
       "      <td>64</td>\n",
       "      <td>0</td>\n",
       "      <td>0</td>\n",
       "      <td>19590</td>\n",
       "    </tr>\n",
       "    <tr>\n",
       "      <th>2</th>\n",
       "      <td>Avita</td>\n",
       "      <td>PURA</td>\n",
       "      <td>AMD</td>\n",
       "      <td>APU Dual</td>\n",
       "      <td>10</td>\n",
       "      <td>4</td>\n",
       "      <td>DDR4</td>\n",
       "      <td>128</td>\n",
       "      <td>0</td>\n",
       "      <td>Windows</td>\n",
       "      <td>64</td>\n",
       "      <td>0</td>\n",
       "      <td>0</td>\n",
       "      <td>19990</td>\n",
       "    </tr>\n",
       "    <tr>\n",
       "      <th>3</th>\n",
       "      <td>Avita</td>\n",
       "      <td>PURA</td>\n",
       "      <td>AMD</td>\n",
       "      <td>APU Dual</td>\n",
       "      <td>10</td>\n",
       "      <td>4</td>\n",
       "      <td>DDR4</td>\n",
       "      <td>128</td>\n",
       "      <td>0</td>\n",
       "      <td>Windows</td>\n",
       "      <td>64</td>\n",
       "      <td>0</td>\n",
       "      <td>0</td>\n",
       "      <td>21490</td>\n",
       "    </tr>\n",
       "    <tr>\n",
       "      <th>4</th>\n",
       "      <td>Avita</td>\n",
       "      <td>PURA</td>\n",
       "      <td>AMD</td>\n",
       "      <td>APU Dual</td>\n",
       "      <td>10</td>\n",
       "      <td>4</td>\n",
       "      <td>DDR4</td>\n",
       "      <td>256</td>\n",
       "      <td>0</td>\n",
       "      <td>Windows</td>\n",
       "      <td>64</td>\n",
       "      <td>0</td>\n",
       "      <td>0</td>\n",
       "      <td>24990</td>\n",
       "    </tr>\n",
       "  </tbody>\n",
       "</table>\n",
       "</div>"
      ],
      "text/plain": [
       "    brand    model processor_brand     processor_name  processor_gnrtn  \\\n",
       "0  Lenovo  A6-9225             AMD  A6-9225 Processor               10   \n",
       "1  Lenovo  Ideapad             AMD           APU Dual               10   \n",
       "2   Avita     PURA             AMD           APU Dual               10   \n",
       "3   Avita     PURA             AMD           APU Dual               10   \n",
       "4   Avita     PURA             AMD           APU Dual               10   \n",
       "\n",
       "   ram_gb ram_type  ssd   hdd       os  os_bit  graphic_card_gb  Touchscreen  \\\n",
       "0       4     DDR4    0  1024  Windows      64                0            0   \n",
       "1       4     DDR4    0   512  Windows      64                0            0   \n",
       "2       4     DDR4  128     0  Windows      64                0            0   \n",
       "3       4     DDR4  128     0  Windows      64                0            0   \n",
       "4       4     DDR4  256     0  Windows      64                0            0   \n",
       "\n",
       "   latest_price  \n",
       "0         24990  \n",
       "1         19590  \n",
       "2         19990  \n",
       "3         21490  \n",
       "4         24990  "
      ]
     },
     "execution_count": 239,
     "metadata": {},
     "output_type": "execute_result"
    }
   ],
   "source": [
    "laptops.head()"
   ]
  },
  {
   "cell_type": "code",
   "execution_count": 242,
   "metadata": {},
   "outputs": [],
   "source": [
    "file = open(\"model.pkl\", \"wb\")\n",
    "pickle.dump(pipeline, file)\n",
    "file.close()"
   ]
  },
  {
   "cell_type": "code",
   "execution_count": 243,
   "metadata": {},
   "outputs": [],
   "source": [
    "model = pickle.load(open(\"model.pkl\", \"rb\"))"
   ]
  },
  {
   "cell_type": "code",
   "execution_count": 255,
   "metadata": {},
   "outputs": [
    {
     "data": {
      "text/plain": [
       "array([72515.80275331])"
      ]
     },
     "execution_count": 255,
     "metadata": {},
     "output_type": "execute_result"
    }
   ],
   "source": [
    "model.predict(pd.DataFrame([[\"Lenovo\", \"A6-9225\", \"AMD\", \"A6-9225 Processor\", 10, 4, \"DDR4\", 256, 1024, \"Windows\", 64, 2, 1]],\n",
    "                              columns=['brand', 'model', 'processor_brand', 'processor_name',\n",
    "       'processor_gnrtn', 'ram_gb', 'ram_type', 'ssd', 'hdd', 'os', 'os_bit',\n",
    "       'graphic_card_gb', 'Touchscreen']))"
   ]
  },
  {
   "cell_type": "code",
   "execution_count": 252,
   "metadata": {},
   "outputs": [],
   "source": [
    "df = pd.read_csv(\"laptop_data_cleaned.csv\")"
   ]
  },
  {
   "cell_type": "code",
   "execution_count": 249,
   "metadata": {},
   "outputs": [],
   "source": [
    "# df.drop(labels=[\"Unnamed: 0\"], axis=1, inplace=True)\n"
   ]
  },
  {
   "cell_type": "code",
   "execution_count": 253,
   "metadata": {},
   "outputs": [
    {
     "name": "stdout",
     "output_type": "stream",
     "text": [
      "<class 'pandas.core.frame.DataFrame'>\n",
      "RangeIndex: 657 entries, 0 to 656\n",
      "Data columns (total 15 columns):\n",
      " #   Column           Non-Null Count  Dtype \n",
      "---  ------           --------------  ----- \n",
      " 0   Unnamed: 0       657 non-null    int64 \n",
      " 1   brand            657 non-null    object\n",
      " 2   model            657 non-null    object\n",
      " 3   processor_brand  657 non-null    object\n",
      " 4   processor_name   657 non-null    object\n",
      " 5   processor_gnrtn  657 non-null    int64 \n",
      " 6   ram_gb           657 non-null    int64 \n",
      " 7   ram_type         657 non-null    object\n",
      " 8   ssd              657 non-null    int64 \n",
      " 9   hdd              657 non-null    int64 \n",
      " 10  os               657 non-null    object\n",
      " 11  os_bit           657 non-null    int64 \n",
      " 12  graphic_card_gb  657 non-null    int64 \n",
      " 13  Touchscreen      657 non-null    int64 \n",
      " 14  latest_price     657 non-null    int64 \n",
      "dtypes: int64(9), object(6)\n",
      "memory usage: 77.1+ KB\n"
     ]
    }
   ],
   "source": [
    "df.info()"
   ]
  },
  {
   "cell_type": "code",
   "execution_count": null,
   "metadata": {},
   "outputs": [],
   "source": []
  }
 ],
 "metadata": {
  "kernelspec": {
   "display_name": "Python 3.8.10 64-bit",
   "language": "python",
   "name": "python3"
  },
  "language_info": {
   "codemirror_mode": {
    "name": "ipython",
    "version": 3
   },
   "file_extension": ".py",
   "mimetype": "text/x-python",
   "name": "python",
   "nbconvert_exporter": "python",
   "pygments_lexer": "ipython3",
   "version": "3.8.10"
  },
  "vscode": {
   "interpreter": {
    "hash": "e7370f93d1d0cde622a1f8e1c04877d8463912d04d973331ad4851f04de6915a"
   }
  }
 },
 "nbformat": 4,
 "nbformat_minor": 2
}
